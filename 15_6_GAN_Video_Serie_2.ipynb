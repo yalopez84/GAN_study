{
  "nbformat": 4,
  "nbformat_minor": 0,
  "metadata": {
    "colab": {
      "provenance": [],
      "gpuType": "T4",
      "authorship_tag": "ABX9TyOmqinYRnF+GOkjpxT3Lzuo",
      "include_colab_link": true
    },
    "kernelspec": {
      "name": "python3",
      "display_name": "Python 3"
    },
    "language_info": {
      "name": "python"
    },
    "accelerator": "GPU"
  },
  "cells": [
    {
      "cell_type": "markdown",
      "metadata": {
        "id": "view-in-github",
        "colab_type": "text"
      },
      "source": [
        "<a href=\"https://colab.research.google.com/github/yalopez84/GAN_study/blob/master/15_6_GAN_Video_Serie_2.ipynb\" target=\"_parent\"><img src=\"https://colab.research.google.com/assets/colab-badge.svg\" alt=\"Open In Colab\"/></a>"
      ]
    },
    {
      "cell_type": "code",
      "execution_count": 26,
      "metadata": {
        "id": "elmpdc2dFQge"
      },
      "outputs": [],
      "source": [
        "import torch\n",
        "import torch.nn as nn\n",
        "import torch.optim as optim\n",
        "import torchvision\n",
        "import torchvision.datasets as datasets\n",
        "from  torch.utils.data import DataLoader\n",
        "import torchvision.transforms as transforms\n",
        "from torch.utils.tensorboard import SummaryWriter"
      ]
    },
    {
      "cell_type": "code",
      "source": [
        "class Discriminator(nn.Module):\n",
        "    def __init__(self, img_dim):\n",
        "        super().__init__()\n",
        "        self.disc=nn.Sequential(\n",
        "            nn.Linear(img_dim, 128),\n",
        "            nn.LeakyReLU(0.1),\n",
        "            nn.Linear(128,1),\n",
        "            nn.Sigmoid()\n",
        "        )\n",
        "    def forward(self,x):\n",
        "        return self.disc(x)"
      ],
      "metadata": {
        "id": "9hFZ7b7-GKRR"
      },
      "execution_count": 27,
      "outputs": []
    },
    {
      "cell_type": "code",
      "source": [
        "class Generator(nn.Module):\n",
        "    def __init__(self, z_dim, img_dim):\n",
        "        super().__init__()\n",
        "        self.gen=nn.Sequential(\n",
        "            nn.Linear(z_dim,256),\n",
        "            nn.LeakyReLU(0.1),\n",
        "            nn.Linear(256,img_dim),\n",
        "            nn.Tanh()\n",
        "        )\n",
        "    def forward(self,x):\n",
        "        return self.gen(x)"
      ],
      "metadata": {
        "id": "13nuueK4H4sC"
      },
      "execution_count": 28,
      "outputs": []
    },
    {
      "cell_type": "code",
      "source": [
        "#Hyperparameters\n",
        "device=\"cuda\" if torch.cuda.is_available() else \"cpu\"\n",
        "lr=3e-4\n",
        "z_dim=64\n",
        "image_dim=28 * 28 *1\n",
        "batch_size=32\n",
        "num_epochs=50\n",
        "disc=Discriminator(image_dim).to(device)\n",
        "gen=Generator(z_dim=z_dim, img_dim=image_dim).to(device)\n",
        "fixed_noise=torch.randn(batch_size, z_dim).to(device)\n",
        "transforms=transforms.Compose(\n",
        "[transforms.ToTensor(), transforms.Normalize((0.1307,), (0.3081,))]\n",
        ")\n",
        "dataset=datasets.MNIST(root=\"dataset/\", transform=transforms,download=True)\n",
        "loader=DataLoader(dataset, batch_size=batch_size, shuffle=True)\n",
        "opt_disc=optim.Adam(disc.parameters(), lr=lr)\n",
        "opt_gen=optim.Adam(gen.parameters(), lr=lr)\n",
        "criterion=nn.BCELoss()\n",
        "writer_fake= SummaryWriter(f\"runs/GAN_MNIST/fake\")\n",
        "writer_real= SummaryWriter(f\"runs/GAN_MNIST/real\")\n",
        "step=0\n",
        "for epoch in range (num_epochs):\n",
        "    for batch_idx, (real,_) in enumerate(loader):\n",
        "        real=real.view(-1,784).to(device)\n",
        "        batch_size=real.shape[0]\n",
        "\n",
        "        #train discriminator: max log(D(real)) + log(1-D(G(z)))\n",
        "        noise=torch.randn(batch_size,z_dim).to(device)\n",
        "        fake=gen(noise)\n",
        "        disc_real=disc(real).view(-1)\n",
        "        lossD_real=criterion(disc_real,torch.ones_like(disc_real))\n",
        "        disc_fake=disc(fake.detach()).view(-1)\n",
        "        lossD_fake=criterion(disc_fake,torch.zeros_like(disc_fake))\n",
        "        lossD=(lossD_real +lossD_fake)/2\n",
        "        disc.zero_grad()\n",
        "        lossD.backward()\n",
        "        opt_disc.step()\n",
        "\n",
        "\n",
        "        #El detach de arriba es porque una vez que se hace el backward en la perdida, todo lo que influyo en ella se limpia, sin embargo,\n",
        "        #se necesita en el entrenamiento del generador esas imagenes calculadas en el generador para no tener que calcularlas twice.\n",
        "        # otra forma de solucionarlo es poniendo en el metodo backward lossD.backward (retain_graph=True)\n",
        "        #train generator min log(1-D(G(z))) ->max(log(D(G(z))))\n",
        "        output=disc(fake).view(-1)\n",
        "        lossG=criterion(output, torch.ones_like(output))\n",
        "        gen.zero_grad()\n",
        "        lossG.backward()\n",
        "        opt_gen.step()\n",
        "        #Adicional code for tensor board\n",
        "\n",
        "        if batch_idx == 0:\n",
        "            print(\n",
        "                f\"Epoch[{epoch}/{num_epochs}] \\ \"\n",
        "                f\"Loss D:{lossD:.4f} Loss G:{lossG:.4f}\"\n",
        "            )\n",
        "            with torch.no_grad():\n",
        "                fake=gen(fixed_noise). reshape(-1,1,28,28)\n",
        "                data=real.reshape(-1,1,28,28)\n",
        "                img_grid_fake =torchvision.utils.make_grid(fake,normalize=True)\n",
        "                img_grid_real=torchvision.utils.make_grid(data,normalize=True)\n",
        "\n",
        "                writer_fake.add_image(\n",
        "                    \"Mnist Fake Images\", img_grid_fake, global_step=step\n",
        "                )\n",
        "                writer_real.add_image(\n",
        "                    \"Mnist real Images\", img_grid_real, global_step=step\n",
        "                )\n",
        "                step+=1"
      ],
      "metadata": {
        "colab": {
          "base_uri": "https://localhost:8080/"
        },
        "id": "uMNJ5wHgJdxM",
        "outputId": "90525b7f-752d-4f37-8629-e61c355a435c"
      },
      "execution_count": 29,
      "outputs": [
        {
          "output_type": "stream",
          "name": "stdout",
          "text": [
            "Epoch[0/50] \\ Loss D:0.7419 Loss G:0.6998\n",
            "Epoch[1/50] \\ Loss D:0.1128 Loss G:2.1092\n",
            "Epoch[2/50] \\ Loss D:0.1426 Loss G:2.6138\n",
            "Epoch[3/50] \\ Loss D:0.0642 Loss G:3.9327\n",
            "Epoch[4/50] \\ Loss D:0.0836 Loss G:3.6783\n",
            "Epoch[5/50] \\ Loss D:0.0325 Loss G:4.7291\n",
            "Epoch[6/50] \\ Loss D:0.1130 Loss G:5.5562\n",
            "Epoch[7/50] \\ Loss D:0.1297 Loss G:4.9644\n",
            "Epoch[8/50] \\ Loss D:0.0094 Loss G:5.7367\n",
            "Epoch[9/50] \\ Loss D:0.0066 Loss G:5.2078\n",
            "Epoch[10/50] \\ Loss D:0.0093 Loss G:5.3875\n",
            "Epoch[11/50] \\ Loss D:0.0114 Loss G:5.6058\n",
            "Epoch[12/50] \\ Loss D:0.0045 Loss G:5.8727\n",
            "Epoch[13/50] \\ Loss D:0.0307 Loss G:5.9416\n",
            "Epoch[14/50] \\ Loss D:0.0060 Loss G:5.7367\n",
            "Epoch[15/50] \\ Loss D:0.0701 Loss G:5.5558\n",
            "Epoch[16/50] \\ Loss D:0.0378 Loss G:6.0299\n",
            "Epoch[17/50] \\ Loss D:0.0066 Loss G:5.5463\n",
            "Epoch[18/50] \\ Loss D:0.0088 Loss G:6.0077\n",
            "Epoch[19/50] \\ Loss D:0.0100 Loss G:5.7299\n",
            "Epoch[20/50] \\ Loss D:0.0095 Loss G:7.4298\n",
            "Epoch[21/50] \\ Loss D:0.0048 Loss G:6.3707\n",
            "Epoch[22/50] \\ Loss D:0.0304 Loss G:5.7240\n",
            "Epoch[23/50] \\ Loss D:0.0035 Loss G:7.6251\n",
            "Epoch[24/50] \\ Loss D:0.0128 Loss G:5.9723\n",
            "Epoch[25/50] \\ Loss D:0.0079 Loss G:5.7458\n",
            "Epoch[26/50] \\ Loss D:0.1867 Loss G:6.9430\n",
            "Epoch[27/50] \\ Loss D:0.0239 Loss G:7.3589\n",
            "Epoch[28/50] \\ Loss D:0.0014 Loss G:6.9300\n",
            "Epoch[29/50] \\ Loss D:0.0028 Loss G:7.2670\n",
            "Epoch[30/50] \\ Loss D:0.0113 Loss G:7.8828\n",
            "Epoch[31/50] \\ Loss D:0.0199 Loss G:7.6712\n",
            "Epoch[32/50] \\ Loss D:0.0025 Loss G:7.4958\n",
            "Epoch[33/50] \\ Loss D:0.0007 Loss G:7.4971\n",
            "Epoch[34/50] \\ Loss D:0.0290 Loss G:8.6322\n",
            "Epoch[35/50] \\ Loss D:0.0047 Loss G:7.8981\n",
            "Epoch[36/50] \\ Loss D:0.0079 Loss G:7.5219\n",
            "Epoch[37/50] \\ Loss D:0.0211 Loss G:6.4010\n",
            "Epoch[38/50] \\ Loss D:0.0150 Loss G:6.9024\n",
            "Epoch[39/50] \\ Loss D:0.0014 Loss G:8.0713\n",
            "Epoch[40/50] \\ Loss D:0.0007 Loss G:8.4900\n",
            "Epoch[41/50] \\ Loss D:0.0021 Loss G:7.7951\n",
            "Epoch[42/50] \\ Loss D:0.0036 Loss G:6.8017\n",
            "Epoch[43/50] \\ Loss D:0.0081 Loss G:6.3806\n",
            "Epoch[44/50] \\ Loss D:0.0018 Loss G:7.5710\n",
            "Epoch[45/50] \\ Loss D:0.0107 Loss G:8.0358\n",
            "Epoch[46/50] \\ Loss D:0.0018 Loss G:8.1537\n",
            "Epoch[47/50] \\ Loss D:0.0184 Loss G:7.8198\n",
            "Epoch[48/50] \\ Loss D:0.0056 Loss G:7.6115\n",
            "Epoch[49/50] \\ Loss D:0.0066 Loss G:7.1542\n"
          ]
        }
      ]
    }
  ]
}