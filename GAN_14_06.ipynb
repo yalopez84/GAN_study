{
  "nbformat": 4,
  "nbformat_minor": 0,
  "metadata": {
    "colab": {
      "provenance": [],
      "gpuType": "T4",
      "authorship_tag": "ABX9TyNQqgaBI+ocjaNL4zMfloGd",
      "include_colab_link": true
    },
    "kernelspec": {
      "name": "python3",
      "display_name": "Python 3"
    },
    "language_info": {
      "name": "python"
    }
  },
  "cells": [
    {
      "cell_type": "markdown",
      "metadata": {
        "id": "view-in-github",
        "colab_type": "text"
      },
      "source": [
        "<a href=\"https://colab.research.google.com/github/yalopez84/GAN_study/blob/master/GAN_14_06.ipynb\" target=\"_parent\"><img src=\"https://colab.research.google.com/assets/colab-badge.svg\" alt=\"Open In Colab\"/></a>"
      ]
    },
    {
      "cell_type": "code",
      "source": [
        "!pip install torch"
      ],
      "metadata": {
        "colab": {
          "base_uri": "https://localhost:8080/"
        },
        "id": "mNSSETkqhYCg",
        "outputId": "1e3f5f9e-d430-44c1-f4bc-a6526042f8c9"
      },
      "execution_count": 152,
      "outputs": [
        {
          "output_type": "stream",
          "name": "stdout",
          "text": [
            "Looking in indexes: https://pypi.org/simple, https://us-python.pkg.dev/colab-wheels/public/simple/\n",
            "Requirement already satisfied: torch in /usr/local/lib/python3.10/dist-packages (2.0.1+cu118)\n",
            "Requirement already satisfied: filelock in /usr/local/lib/python3.10/dist-packages (from torch) (3.12.0)\n",
            "Requirement already satisfied: typing-extensions in /usr/local/lib/python3.10/dist-packages (from torch) (4.5.0)\n",
            "Requirement already satisfied: sympy in /usr/local/lib/python3.10/dist-packages (from torch) (1.11.1)\n",
            "Requirement already satisfied: networkx in /usr/local/lib/python3.10/dist-packages (from torch) (3.1)\n",
            "Requirement already satisfied: jinja2 in /usr/local/lib/python3.10/dist-packages (from torch) (3.1.2)\n",
            "Requirement already satisfied: triton==2.0.0 in /usr/local/lib/python3.10/dist-packages (from torch) (2.0.0)\n",
            "Requirement already satisfied: cmake in /usr/local/lib/python3.10/dist-packages (from triton==2.0.0->torch) (3.25.2)\n",
            "Requirement already satisfied: lit in /usr/local/lib/python3.10/dist-packages (from triton==2.0.0->torch) (16.0.5)\n",
            "Requirement already satisfied: MarkupSafe>=2.0 in /usr/local/lib/python3.10/dist-packages (from jinja2->torch) (2.1.2)\n",
            "Requirement already satisfied: mpmath>=0.19 in /usr/local/lib/python3.10/dist-packages (from sympy->torch) (1.3.0)\n"
          ]
        }
      ]
    },
    {
      "cell_type": "code",
      "execution_count": 153,
      "metadata": {
        "id": "yi7w18mRf_am"
      },
      "outputs": [],
      "source": [
        "import torch\n",
        "import torch.nn as nn\n",
        "import torch.optim as optim\n",
        "import torchvision\n",
        "import torchvision.datasets as datasets\n",
        "from torch.utils.data import DataLoader\n",
        "import torchvision.transforms as transforms\n",
        "from torch.utils.tensorboard import SummaryWriter"
      ]
    },
    {
      "cell_type": "code",
      "source": [
        "class Discriminator(nn.Module):\n",
        "    def __init__(self, img_dim):\n",
        "        super().__init__()\n",
        "        self.disc=nn.Sequential(\n",
        "            nn.Linear(img_dim,128),\n",
        "            nn.LeakyReLU(0.1),\n",
        "            nn.Linear(128, 1),\n",
        "            nn.Sigmoid(),\n",
        "        )\n",
        "    def forward(self, x):\n",
        "        return self.disc(x)"
      ],
      "metadata": {
        "id": "adZGR0nXh7lx"
      },
      "execution_count": 154,
      "outputs": []
    },
    {
      "cell_type": "code",
      "source": [
        "class Generator(nn.Module):\n",
        "    def __init__(self, z_dim, img_dim):\n",
        "        super().__init__()\n",
        "        self.gen=nn.Sequential(\n",
        "            nn.Linear(z_dim,256),\n",
        "            nn.LeakyReLU(0.1),\n",
        "            nn.Linear(256, img_dim),\n",
        "            nn.Tanh()\n",
        "        )\n",
        "    def forward(self,x):\n",
        "        return self.gen(x)"
      ],
      "metadata": {
        "id": "5JDTQ3vxkuSa"
      },
      "execution_count": 155,
      "outputs": []
    },
    {
      "cell_type": "code",
      "source": [
        "#hyperparameters etc.\n",
        "device=\"cuda\" if torch.cuda.is_available() else \"cpu\"\n",
        "lr=3e-4\n",
        "z_dim=64\n",
        "image_dim=28 * 28 *1 # 784\n",
        "batch_size=32\n",
        "num_epochs=50\n",
        "disc= Discriminator(image_dim).to(device)\n",
        "gen=Generator(z_dim,image_dim).to(device)\n",
        "fixed_noise=torch.randn((batch_size,z_dim)).to(device)\n",
        "transforms=transforms.Compose(\n",
        "    [transforms.ToTensor(), transforms.Normalize((0.1307,), (0.3081,))]\n",
        ")\n",
        "dataset=datasets.MNIST(root=\"dataset/\",transform=transforms, download=True)\n",
        "loader=DataLoader(dataset,batch_size=batch_size,shuffle=True)\n",
        "opt_disc=optim.Adam(disc.parameters(),lr=lr)\n",
        "opt_gen=optim.Adam(gen.parameters(),lr=lr)\n",
        "criterion=nn.BCELoss()\n",
        "writer_fake= SummaryWriter(f\"runs/GAN_MNIST/fake\")\n",
        "writer_real= SummaryWriter(f\"runs/GAN_MNIST/real\")\n",
        "step=0\n",
        "for epoch in range(num_epochs):\n",
        "    for batch_idx, (real,_) in enumerate (loader):\n",
        "        real=real.view(-1,784).to(device)\n",
        "        batch_size=real.shape[0]\n",
        "\n",
        "        #train discriminator max log (D(real)) + log(1-D(G(z)))\n",
        "        noise =torch.randn(batch_size,z_dim).to(device)\n",
        "        fake=gen(noise)\n",
        "        disc_real=disc(real).view(-1)\n",
        "        lossD_real=criterion(disc_real, torch.ones_like(disc_real))\n",
        "        disc_fake=disc(fake.detach()).view(-1)\n",
        "        lossD_fake=criterion(disc_fake, torch.zeros_like(disc_fake))\n",
        "        lossD=(lossD_real + lossD_fake) / 2\n",
        "        disc.zero_grad()\n",
        "        lossD.backward()\n",
        "        opt_disc.step()\n",
        "\n",
        "        #train generator min log log(1-D(G(z))) ->max log(D(G(z)))\n",
        "        output=disc(fake).view(-1)\n",
        "        lossG = criterion(output, torch.ones_like(output))\n",
        "        gen.zero_grad()\n",
        "        lossG.backward()\n",
        "        opt_gen.step()\n",
        "\n",
        "        if batch_idx ==0:\n",
        "            print(f\"Epoch [{epoch}/{num_epochs}] Loss D: {lossD: .4f}, Loss G: {lossG: 4f}\")\n",
        "\n",
        "            with torch.no_grad():\n",
        "                fake=gen(fixed_noise). reshape(-1, 1, 28, 28)\n",
        "                data=real.reshape(-1, 1, 28, 28)\n",
        "                img_grid_fake=torchvision.utils.make_grid(fake,normalize=True)\n",
        "                img_grid_real=torchvision.utils.make_grid(data, normalize=True)\n",
        "                writer_fake.add_image(\n",
        "                    \"Mnist Fake Images\", img_grid_fake, global_step=step\n",
        "                )\n",
        "                writer_real.add_image(\n",
        "                    \"Mnist real Images\", img_grid_real, global_step=step\n",
        "                )\n",
        "                step+=1\n"
      ],
      "metadata": {
        "colab": {
          "base_uri": "https://localhost:8080/",
          "height": 617
        },
        "id": "5k_wKOvfp5St",
        "outputId": "b17679a7-0e65-4403-e67b-30be6576d477"
      },
      "execution_count": 156,
      "outputs": [
        {
          "output_type": "stream",
          "name": "stdout",
          "text": [
            "Epoch [0/50] Loss D:  0.7352, Loss G:  0.687961\n",
            "Epoch [1/50] Loss D:  0.1882, Loss G:  2.076466\n",
            "Epoch [2/50] Loss D:  0.0593, Loss G:  3.109229\n",
            "Epoch [3/50] Loss D:  0.0779, Loss G:  3.842041\n",
            "Epoch [4/50] Loss D:  0.0883, Loss G:  3.785535\n",
            "Epoch [5/50] Loss D:  0.1266, Loss G:  3.814486\n",
            "Epoch [6/50] Loss D:  0.0207, Loss G:  4.561933\n",
            "Epoch [7/50] Loss D:  0.0369, Loss G:  4.755553\n",
            "Epoch [8/50] Loss D:  0.0169, Loss G:  4.892198\n",
            "Epoch [9/50] Loss D:  0.0144, Loss G:  5.677328\n",
            "Epoch [10/50] Loss D:  0.0659, Loss G:  5.412946\n",
            "Epoch [11/50] Loss D:  0.0126, Loss G:  5.646009\n"
          ]
        },
        {
          "output_type": "error",
          "ename": "KeyboardInterrupt",
          "evalue": "ignored",
          "traceback": [
            "\u001b[0;31m---------------------------------------------------------------------------\u001b[0m",
            "\u001b[0;31mKeyboardInterrupt\u001b[0m                         Traceback (most recent call last)",
            "\u001b[0;32m<ipython-input-156-0c67a8412eb9>\u001b[0m in \u001b[0;36m<cell line: 22>\u001b[0;34m()\u001b[0m\n\u001b[1;32m     41\u001b[0m         \u001b[0mlossG\u001b[0m \u001b[0;34m=\u001b[0m \u001b[0mcriterion\u001b[0m\u001b[0;34m(\u001b[0m\u001b[0moutput\u001b[0m\u001b[0;34m,\u001b[0m \u001b[0mtorch\u001b[0m\u001b[0;34m.\u001b[0m\u001b[0mones_like\u001b[0m\u001b[0;34m(\u001b[0m\u001b[0moutput\u001b[0m\u001b[0;34m)\u001b[0m\u001b[0;34m)\u001b[0m\u001b[0;34m\u001b[0m\u001b[0;34m\u001b[0m\u001b[0m\n\u001b[1;32m     42\u001b[0m         \u001b[0mgen\u001b[0m\u001b[0;34m.\u001b[0m\u001b[0mzero_grad\u001b[0m\u001b[0;34m(\u001b[0m\u001b[0;34m)\u001b[0m\u001b[0;34m\u001b[0m\u001b[0;34m\u001b[0m\u001b[0m\n\u001b[0;32m---> 43\u001b[0;31m         \u001b[0mlossG\u001b[0m\u001b[0;34m.\u001b[0m\u001b[0mbackward\u001b[0m\u001b[0;34m(\u001b[0m\u001b[0;34m)\u001b[0m\u001b[0;34m\u001b[0m\u001b[0;34m\u001b[0m\u001b[0m\n\u001b[0m\u001b[1;32m     44\u001b[0m         \u001b[0mopt_gen\u001b[0m\u001b[0;34m.\u001b[0m\u001b[0mstep\u001b[0m\u001b[0;34m(\u001b[0m\u001b[0;34m)\u001b[0m\u001b[0;34m\u001b[0m\u001b[0;34m\u001b[0m\u001b[0m\n\u001b[1;32m     45\u001b[0m \u001b[0;34m\u001b[0m\u001b[0m\n",
            "\u001b[0;32m/usr/local/lib/python3.10/dist-packages/torch/_tensor.py\u001b[0m in \u001b[0;36mbackward\u001b[0;34m(self, gradient, retain_graph, create_graph, inputs)\u001b[0m\n\u001b[1;32m    485\u001b[0m                 \u001b[0minputs\u001b[0m\u001b[0;34m=\u001b[0m\u001b[0minputs\u001b[0m\u001b[0;34m,\u001b[0m\u001b[0;34m\u001b[0m\u001b[0;34m\u001b[0m\u001b[0m\n\u001b[1;32m    486\u001b[0m             )\n\u001b[0;32m--> 487\u001b[0;31m         torch.autograd.backward(\n\u001b[0m\u001b[1;32m    488\u001b[0m             \u001b[0mself\u001b[0m\u001b[0;34m,\u001b[0m \u001b[0mgradient\u001b[0m\u001b[0;34m,\u001b[0m \u001b[0mretain_graph\u001b[0m\u001b[0;34m,\u001b[0m \u001b[0mcreate_graph\u001b[0m\u001b[0;34m,\u001b[0m \u001b[0minputs\u001b[0m\u001b[0;34m=\u001b[0m\u001b[0minputs\u001b[0m\u001b[0;34m\u001b[0m\u001b[0;34m\u001b[0m\u001b[0m\n\u001b[1;32m    489\u001b[0m         )\n",
            "\u001b[0;32m/usr/local/lib/python3.10/dist-packages/torch/autograd/__init__.py\u001b[0m in \u001b[0;36mbackward\u001b[0;34m(tensors, grad_tensors, retain_graph, create_graph, grad_variables, inputs)\u001b[0m\n\u001b[1;32m    198\u001b[0m     \u001b[0;31m# some Python versions print out the first line of a multi-line function\u001b[0m\u001b[0;34m\u001b[0m\u001b[0;34m\u001b[0m\u001b[0m\n\u001b[1;32m    199\u001b[0m     \u001b[0;31m# calls in the traceback and some print out the last line\u001b[0m\u001b[0;34m\u001b[0m\u001b[0;34m\u001b[0m\u001b[0m\n\u001b[0;32m--> 200\u001b[0;31m     Variable._execution_engine.run_backward(  # Calls into the C++ engine to run the backward pass\n\u001b[0m\u001b[1;32m    201\u001b[0m         \u001b[0mtensors\u001b[0m\u001b[0;34m,\u001b[0m \u001b[0mgrad_tensors_\u001b[0m\u001b[0;34m,\u001b[0m \u001b[0mretain_graph\u001b[0m\u001b[0;34m,\u001b[0m \u001b[0mcreate_graph\u001b[0m\u001b[0;34m,\u001b[0m \u001b[0minputs\u001b[0m\u001b[0;34m,\u001b[0m\u001b[0;34m\u001b[0m\u001b[0;34m\u001b[0m\u001b[0m\n\u001b[1;32m    202\u001b[0m         allow_unreachable=True, accumulate_grad=True)  # Calls into the C++ engine to run the backward pass\n",
            "\u001b[0;31mKeyboardInterrupt\u001b[0m: "
          ]
        }
      ]
    },
    {
      "cell_type": "code",
      "source": [
        "model=Discriminator()\n",
        "model"
      ],
      "metadata": {
        "id": "dvxmDSfMjwnh"
      },
      "execution_count": null,
      "outputs": []
    }
  ]
}